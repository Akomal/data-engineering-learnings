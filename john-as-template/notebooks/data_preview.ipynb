%sql
select * from capstone_dataset.sales limit 10