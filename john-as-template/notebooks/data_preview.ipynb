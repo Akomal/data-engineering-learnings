import nbformat as nbf

notebook = nbf.v4.new_notebook()
notebook.cells = [
    nbf.v4.new_markdown_cell("# 🧪 Data Preview Notebook\nThis notebook loads and previews the sales data."),
    nbf.v4.new_code_cell("""import pandas as pd

# Load the sample data
df = pd.read_csv('../data/sales_data.csv')
df.head()"""),
    nbf.v4.new_code_cell("""# Basic stats
df.describe()"""),
    nbf.v4.new_code_cell("""# Simple bar chart of total sales per product
import matplotlib.pyplot as plt

df['total'] = df['quantity'] * df['price']
df.groupby('product')['total'].sum().plot(kind='bar', title='Total Sales by Product')
plt.ylabel('Total Sales (€)')
plt.show()""")
]

